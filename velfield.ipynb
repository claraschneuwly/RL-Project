{
 "cells": [
  {
   "cell_type": "code",
   "execution_count": 6,
   "metadata": {},
   "outputs": [],
   "source": [
    "import numpy as np\n",
    "import matplotlib.pyplot as plt\n",
    "import os\n",
    "import cv2"
   ]
  },
  {
   "cell_type": "code",
   "execution_count": 7,
   "metadata": {},
   "outputs": [],
   "source": [
    "def create_movie(image_folder, output_path, fps = 24) :\n",
    "\n",
    "    ### INPUTS ###\n",
    "    # image_folder :  [str]    Name of folder with images -- frame order is specified by image names\n",
    "    # output_path  :  [str]    Path of the output movie -- must end with .mp4\n",
    "    # fps          :  [int]    Movie frames per second\n",
    "    ##############\n",
    "\n",
    "    # Get the list of image files\n",
    "    image_files = sorted([os.path.join(image_folder, file) for file in os.listdir(image_folder)])\n",
    "\n",
    "    # Read the first image to get dimensions\n",
    "    first_image = cv2.imread(image_files[0])\n",
    "    height, width, _ = first_image.shape\n",
    "\n",
    "    # Initialize VideoWriter object\n",
    "    fourcc = cv2.VideoWriter_fourcc(*'mp4v')\n",
    "    video_writer = cv2.VideoWriter(output_path, fourcc, fps, (width, height))\n",
    "\n",
    "    # Write images to video\n",
    "    for image_file in image_files:\n",
    "        frame = cv2.imread(image_file)\n",
    "        video_writer.write(frame)\n",
    "\n",
    "    # Release video object\n",
    "    video_writer.release()"
   ]
  },
  {
   "cell_type": "code",
   "execution_count": 8,
   "metadata": {},
   "outputs": [],
   "source": [
    "class Wave :\n",
    "    def __init__(self, a, T, k) :\n",
    "        self.a = a                  # Wave amplitude\n",
    "        self.T = T                  # Wave period\n",
    "        self.omega = 2 * np.pi / T  # Wave frequency\n",
    "        self.k = .1                 # Wave number\n",
    "\n",
    "class Wind :\n",
    "    def __init__(self, Ux, Uy, alpha, sigma) :\n",
    "        self.Ux = Ux\n",
    "        self.Uy = Uy\n",
    "        self.alpha = alpha\n",
    "        self.sigma = sigma"
   ]
  },
  {
   "cell_type": "code",
   "execution_count": 9,
   "metadata": {},
   "outputs": [],
   "source": [
    "wave = Wave(a = 2.5,\n",
    "            T = 10,\n",
    "            k = .1)\n",
    "\n",
    "wind = Wind(Ux = 1, Uy = 1, alpha = 1, sigma = .1)"
   ]
  },
  {
   "cell_type": "code",
   "execution_count": 10,
   "metadata": {},
   "outputs": [],
   "source": [
    "d = 15 # Volume water depth\n",
    "\n",
    "# Create grid-coordinates\n",
    "x = np.linspace(-10, 10, 15)\n",
    "y = np.linspace(-10, 10, 15)\n",
    "z = np.linspace(wave.a, -d, 15)\n",
    "\n",
    "# Create the 3D meshgrid\n",
    "X, Y, Z = np.meshgrid(x, y, z)"
   ]
  },
  {
   "cell_type": "code",
   "execution_count": 18,
   "metadata": {},
   "outputs": [],
   "source": [
    "def water_surface_level(wave, x, t) :\n",
    "    eta = wave.a * np.sin(wave.omega * t - wave.k * x)\n",
    "    return eta\n",
    "\n",
    "def velocity_field(wave, wind, t, x, z, noise = 0) :\n",
    "\n",
    "    u_swell = wave.a * wave.omega * np.exp(wave.k * z) * np.sin(wave.omega * t - wave.k * x)\n",
    "    v_swell = np.zeros_like(u_swell)\n",
    "    w_swell = wave.a * wave.omega * np.exp(wave.k * z) * np.cos(wave.omega * t - wave.k * x)\n",
    "\n",
    "    Ux_surf = np.random.normal(wind.Ux, wind.sigma, u_swell[:, :, 0].shape)\n",
    "    Uy_surf = np.random.normal(wind.Uy, wind.sigma, v_swell[:, :, 0].shape)\n",
    "    \n",
    "    u_wind = Ux_surf * np.exp(wind.alpha * (Z / Z.max(axis = -1) - 1))\n",
    "    v_wind = Uy_surf * np.exp(wind.alpha * (Z / Z.max(axis = -1) - 1))\n",
    "    w_wind = np.zeros_like(u_wind)\n",
    "\n",
    "    u, v, w = u_swell + u_wind, v_swell + v_wind, w_swell + w_wind\n",
    "\n",
    "    u = u + np.random.normal(0, noise, u.shape)\n",
    "    v = v + np.random.normal(0, noise, v.shape)\n",
    "    w = w + np.random.normal(0, noise, w.shape)\n",
    "\n",
    "    return u, v, w"
   ]
  },
  {
   "cell_type": "code",
   "execution_count": 25,
   "metadata": {},
   "outputs": [],
   "source": [
    "x = X[0, 0, 0]\n",
    "y = Y[0, 0, 0]\n",
    "eta = water_surface_level(wave, x, 0)\n",
    "eta\n",
    "\n",
    "Ux_surf = np.random.normal(2, 0, X[:, :, 0].shape)\n",
    "Uy_surf = np.random.normal(2, 0, X[:, :, 0].shape)\n",
    "\n",
    "u_wind = Ux_surf * np.exp(wind.alpha * (Z / eta - 1))\n",
    "v_wind = Uy_surf * np.exp(wind.alpha * (Z / eta - 1))"
   ]
  },
  {
   "cell_type": "code",
   "execution_count": 29,
   "metadata": {},
   "outputs": [],
   "source": [
    "water = (Z <= eta).astype(np.int32)"
   ]
  },
  {
   "cell_type": "code",
   "execution_count": 31,
   "metadata": {},
   "outputs": [
    {
     "data": {
      "text/plain": [
       "[<matplotlib.lines.Line2D at 0x7f7949db4c40>]"
      ]
     },
     "execution_count": 31,
     "metadata": {},
     "output_type": "execute_result"
    },
    {
     "data": {
      "image/png": "[encoded data removed]",
      "text/plain": [
       "<Figure size 640x480 with 1 Axes>"
      ]
     },
     "metadata": {},
     "output_type": "display_data"
    }
   ],
   "source": [
    "plt.plot(u_wind[0, 0, :] * water[0, 0, :])"
   ]
  },
  {
   "cell_type": "code",
   "execution_count": null,
   "metadata": {},
   "outputs": [],
   "source": [
    "\n",
    "Ux_surf = np.random.normal(wind.Ux, wind.sigma, X[:, :, 0].shape)\n",
    "Uy_surf = np.random.normal(wind.Uy, wind.sigma, X[:, :, 0].shape)\n",
    "\n",
    "u_wind = Ux_surf * np.exp(wind.alpha * (Z / Z.max(axis = -1) - 1))\n",
    "v_wind = Uy_surf * np.exp(wind.alpha * (Z / Z.max(axis = -1) - 1))"
   ]
  },
  {
   "cell_type": "code",
   "execution_count": 158,
   "metadata": {},
   "outputs": [
    {
     "name": "stderr",
     "output_type": "stream",
     "text": [
      "/var/folders/x8/gymrgfns32bd6rd_ksf19p3m0000gn/T/ipykernel_13099/3716218547.py:32: RuntimeWarning: invalid value encountered in double_scalars\n",
      "  dx = (mask * u).sum() / mask.sum()\n",
      "/var/folders/x8/gymrgfns32bd6rd_ksf19p3m0000gn/T/ipykernel_13099/3716218547.py:33: RuntimeWarning: invalid value encountered in double_scalars\n",
      "  dy = (mask * v).sum() / mask.sum()\n",
      "/var/folders/x8/gymrgfns32bd6rd_ksf19p3m0000gn/T/ipykernel_13099/3716218547.py:32: RuntimeWarning: invalid value encountered in double_scalars\n",
      "  dx = (mask * u).sum() / mask.sum()\n",
      "/var/folders/x8/gymrgfns32bd6rd_ksf19p3m0000gn/T/ipykernel_13099/3716218547.py:33: RuntimeWarning: invalid value encountered in double_scalars\n",
      "  dy = (mask * v).sum() / mask.sum()\n",
      "/var/folders/x8/gymrgfns32bd6rd_ksf19p3m0000gn/T/ipykernel_13099/3716218547.py:32: RuntimeWarning: invalid value encountered in double_scalars\n",
      "  dx = (mask * u).sum() / mask.sum()\n",
      "/var/folders/x8/gymrgfns32bd6rd_ksf19p3m0000gn/T/ipykernel_13099/3716218547.py:33: RuntimeWarning: invalid value encountered in double_scalars\n",
      "  dy = (mask * v).sum() / mask.sum()\n",
      "/var/folders/x8/gymrgfns32bd6rd_ksf19p3m0000gn/T/ipykernel_13099/3716218547.py:32: RuntimeWarning: invalid value encountered in double_scalars\n",
      "  dx = (mask * u).sum() / mask.sum()\n",
      "/var/folders/x8/gymrgfns32bd6rd_ksf19p3m0000gn/T/ipykernel_13099/3716218547.py:33: RuntimeWarning: invalid value encountered in double_scalars\n",
      "  dy = (mask * v).sum() / mask.sum()\n",
      "/var/folders/x8/gymrgfns32bd6rd_ksf19p3m0000gn/T/ipykernel_13099/3716218547.py:32: RuntimeWarning: invalid value encountered in double_scalars\n",
      "  dx = (mask * u).sum() / mask.sum()\n",
      "/var/folders/x8/gymrgfns32bd6rd_ksf19p3m0000gn/T/ipykernel_13099/3716218547.py:33: RuntimeWarning: invalid value encountered in double_scalars\n",
      "  dy = (mask * v).sum() / mask.sum()\n",
      "/var/folders/x8/gymrgfns32bd6rd_ksf19p3m0000gn/T/ipykernel_13099/3716218547.py:32: RuntimeWarning: invalid value encountered in double_scalars\n",
      "  dx = (mask * u).sum() / mask.sum()\n",
      "/var/folders/x8/gymrgfns32bd6rd_ksf19p3m0000gn/T/ipykernel_13099/3716218547.py:33: RuntimeWarning: invalid value encountered in double_scalars\n",
      "  dy = (mask * v).sum() / mask.sum()\n",
      "/var/folders/x8/gymrgfns32bd6rd_ksf19p3m0000gn/T/ipykernel_13099/3716218547.py:32: RuntimeWarning: invalid value encountered in double_scalars\n",
      "  dx = (mask * u).sum() / mask.sum()\n",
      "/var/folders/x8/gymrgfns32bd6rd_ksf19p3m0000gn/T/ipykernel_13099/3716218547.py:33: RuntimeWarning: invalid value encountered in double_scalars\n",
      "  dy = (mask * v).sum() / mask.sum()\n",
      "/var/folders/x8/gymrgfns32bd6rd_ksf19p3m0000gn/T/ipykernel_13099/3716218547.py:32: RuntimeWarning: invalid value encountered in double_scalars\n",
      "  dx = (mask * u).sum() / mask.sum()\n",
      "/var/folders/x8/gymrgfns32bd6rd_ksf19p3m0000gn/T/ipykernel_13099/3716218547.py:33: RuntimeWarning: invalid value encountered in double_scalars\n",
      "  dy = (mask * v).sum() / mask.sum()\n",
      "/var/folders/x8/gymrgfns32bd6rd_ksf19p3m0000gn/T/ipykernel_13099/3716218547.py:32: RuntimeWarning: invalid value encountered in double_scalars\n",
      "  dx = (mask * u).sum() / mask.sum()\n",
      "/var/folders/x8/gymrgfns32bd6rd_ksf19p3m0000gn/T/ipykernel_13099/3716218547.py:33: RuntimeWarning: invalid value encountered in double_scalars\n",
      "  dy = (mask * v).sum() / mask.sum()\n",
      "/var/folders/x8/gymrgfns32bd6rd_ksf19p3m0000gn/T/ipykernel_13099/3716218547.py:32: RuntimeWarning: invalid value encountered in double_scalars\n",
      "  dx = (mask * u).sum() / mask.sum()\n",
      "/var/folders/x8/gymrgfns32bd6rd_ksf19p3m0000gn/T/ipykernel_13099/3716218547.py:33: RuntimeWarning: invalid value encountered in double_scalars\n",
      "  dy = (mask * v).sum() / mask.sum()\n",
      "/var/folders/x8/gymrgfns32bd6rd_ksf19p3m0000gn/T/ipykernel_13099/3716218547.py:32: RuntimeWarning: invalid value encountered in double_scalars\n",
      "  dx = (mask * u).sum() / mask.sum()\n",
      "/var/folders/x8/gymrgfns32bd6rd_ksf19p3m0000gn/T/ipykernel_13099/3716218547.py:33: RuntimeWarning: invalid value encountered in double_scalars\n",
      "  dy = (mask * v).sum() / mask.sum()\n",
      "/var/folders/x8/gymrgfns32bd6rd_ksf19p3m0000gn/T/ipykernel_13099/3716218547.py:32: RuntimeWarning: invalid value encountered in double_scalars\n",
      "  dx = (mask * u).sum() / mask.sum()\n",
      "/var/folders/x8/gymrgfns32bd6rd_ksf19p3m0000gn/T/ipykernel_13099/3716218547.py:33: RuntimeWarning: invalid value encountered in double_scalars\n",
      "  dy = (mask * v).sum() / mask.sum()\n",
      "/var/folders/x8/gymrgfns32bd6rd_ksf19p3m0000gn/T/ipykernel_13099/3716218547.py:32: RuntimeWarning: invalid value encountered in double_scalars\n",
      "  dx = (mask * u).sum() / mask.sum()\n",
      "/var/folders/x8/gymrgfns32bd6rd_ksf19p3m0000gn/T/ipykernel_13099/3716218547.py:33: RuntimeWarning: invalid value encountered in double_scalars\n",
      "  dy = (mask * v).sum() / mask.sum()\n",
      "/var/folders/x8/gymrgfns32bd6rd_ksf19p3m0000gn/T/ipykernel_13099/3716218547.py:32: RuntimeWarning: invalid value encountered in double_scalars\n",
      "  dx = (mask * u).sum() / mask.sum()\n",
      "/var/folders/x8/gymrgfns32bd6rd_ksf19p3m0000gn/T/ipykernel_13099/3716218547.py:33: RuntimeWarning: invalid value encountered in double_scalars\n",
      "  dy = (mask * v).sum() / mask.sum()\n",
      "/var/folders/x8/gymrgfns32bd6rd_ksf19p3m0000gn/T/ipykernel_13099/3716218547.py:32: RuntimeWarning: invalid value encountered in double_scalars\n",
      "  dx = (mask * u).sum() / mask.sum()\n",
      "/var/folders/x8/gymrgfns32bd6rd_ksf19p3m0000gn/T/ipykernel_13099/3716218547.py:33: RuntimeWarning: invalid value encountered in double_scalars\n",
      "  dy = (mask * v).sum() / mask.sum()\n",
      "/var/folders/x8/gymrgfns32bd6rd_ksf19p3m0000gn/T/ipykernel_13099/3716218547.py:32: RuntimeWarning: invalid value encountered in double_scalars\n",
      "  dx = (mask * u).sum() / mask.sum()\n",
      "/var/folders/x8/gymrgfns32bd6rd_ksf19p3m0000gn/T/ipykernel_13099/3716218547.py:33: RuntimeWarning: invalid value encountered in double_scalars\n",
      "  dy = (mask * v).sum() / mask.sum()\n",
      "/var/folders/x8/gymrgfns32bd6rd_ksf19p3m0000gn/T/ipykernel_13099/3716218547.py:32: RuntimeWarning: invalid value encountered in double_scalars\n",
      "  dx = (mask * u).sum() / mask.sum()\n",
      "/var/folders/x8/gymrgfns32bd6rd_ksf19p3m0000gn/T/ipykernel_13099/3716218547.py:33: RuntimeWarning: invalid value encountered in double_scalars\n",
      "  dy = (mask * v).sum() / mask.sum()\n",
      "/var/folders/x8/gymrgfns32bd6rd_ksf19p3m0000gn/T/ipykernel_13099/3716218547.py:32: RuntimeWarning: invalid value encountered in double_scalars\n",
      "  dx = (mask * u).sum() / mask.sum()\n",
      "/var/folders/x8/gymrgfns32bd6rd_ksf19p3m0000gn/T/ipykernel_13099/3716218547.py:33: RuntimeWarning: invalid value encountered in double_scalars\n",
      "  dy = (mask * v).sum() / mask.sum()\n",
      "/var/folders/x8/gymrgfns32bd6rd_ksf19p3m0000gn/T/ipykernel_13099/3716218547.py:32: RuntimeWarning: invalid value encountered in double_scalars\n",
      "  dx = (mask * u).sum() / mask.sum()\n",
      "/var/folders/x8/gymrgfns32bd6rd_ksf19p3m0000gn/T/ipykernel_13099/3716218547.py:33: RuntimeWarning: invalid value encountered in double_scalars\n",
      "  dy = (mask * v).sum() / mask.sum()\n",
      "/var/folders/x8/gymrgfns32bd6rd_ksf19p3m0000gn/T/ipykernel_13099/3716218547.py:32: RuntimeWarning: invalid value encountered in double_scalars\n",
      "  dx = (mask * u).sum() / mask.sum()\n",
      "/var/folders/x8/gymrgfns32bd6rd_ksf19p3m0000gn/T/ipykernel_13099/3716218547.py:33: RuntimeWarning: invalid value encountered in double_scalars\n",
      "  dy = (mask * v).sum() / mask.sum()\n",
      "/var/folders/x8/gymrgfns32bd6rd_ksf19p3m0000gn/T/ipykernel_13099/3716218547.py:32: RuntimeWarning: invalid value encountered in double_scalars\n",
      "  dx = (mask * u).sum() / mask.sum()\n",
      "/var/folders/x8/gymrgfns32bd6rd_ksf19p3m0000gn/T/ipykernel_13099/3716218547.py:33: RuntimeWarning: invalid value encountered in double_scalars\n",
      "  dy = (mask * v).sum() / mask.sum()\n",
      "/var/folders/x8/gymrgfns32bd6rd_ksf19p3m0000gn/T/ipykernel_13099/3716218547.py:32: RuntimeWarning: invalid value encountered in double_scalars\n",
      "  dx = (mask * u).sum() / mask.sum()\n",
      "/var/folders/x8/gymrgfns32bd6rd_ksf19p3m0000gn/T/ipykernel_13099/3716218547.py:33: RuntimeWarning: invalid value encountered in double_scalars\n",
      "  dy = (mask * v).sum() / mask.sum()\n",
      "/var/folders/x8/gymrgfns32bd6rd_ksf19p3m0000gn/T/ipykernel_13099/3716218547.py:32: RuntimeWarning: invalid value encountered in double_scalars\n",
      "  dx = (mask * u).sum() / mask.sum()\n",
      "/var/folders/x8/gymrgfns32bd6rd_ksf19p3m0000gn/T/ipykernel_13099/3716218547.py:33: RuntimeWarning: invalid value encountered in double_scalars\n",
      "  dy = (mask * v).sum() / mask.sum()\n",
      "/var/folders/x8/gymrgfns32bd6rd_ksf19p3m0000gn/T/ipykernel_13099/3716218547.py:32: RuntimeWarning: invalid value encountered in double_scalars\n",
      "  dx = (mask * u).sum() / mask.sum()\n",
      "/var/folders/x8/gymrgfns32bd6rd_ksf19p3m0000gn/T/ipykernel_13099/3716218547.py:33: RuntimeWarning: invalid value encountered in double_scalars\n",
      "  dy = (mask * v).sum() / mask.sum()\n",
      "/var/folders/x8/gymrgfns32bd6rd_ksf19p3m0000gn/T/ipykernel_13099/3716218547.py:32: RuntimeWarning: invalid value encountered in double_scalars\n",
      "  dx = (mask * u).sum() / mask.sum()\n",
      "/var/folders/x8/gymrgfns32bd6rd_ksf19p3m0000gn/T/ipykernel_13099/3716218547.py:33: RuntimeWarning: invalid value encountered in double_scalars\n",
      "  dy = (mask * v).sum() / mask.sum()\n",
      "/var/folders/x8/gymrgfns32bd6rd_ksf19p3m0000gn/T/ipykernel_13099/3716218547.py:32: RuntimeWarning: invalid value encountered in double_scalars\n",
      "  dx = (mask * u).sum() / mask.sum()\n",
      "/var/folders/x8/gymrgfns32bd6rd_ksf19p3m0000gn/T/ipykernel_13099/3716218547.py:33: RuntimeWarning: invalid value encountered in double_scalars\n",
      "  dy = (mask * v).sum() / mask.sum()\n",
      "/var/folders/x8/gymrgfns32bd6rd_ksf19p3m0000gn/T/ipykernel_13099/3716218547.py:32: RuntimeWarning: invalid value encountered in double_scalars\n",
      "  dx = (mask * u).sum() / mask.sum()\n",
      "/var/folders/x8/gymrgfns32bd6rd_ksf19p3m0000gn/T/ipykernel_13099/3716218547.py:33: RuntimeWarning: invalid value encountered in double_scalars\n",
      "  dy = (mask * v).sum() / mask.sum()\n",
      "/var/folders/x8/gymrgfns32bd6rd_ksf19p3m0000gn/T/ipykernel_13099/3716218547.py:32: RuntimeWarning: invalid value encountered in double_scalars\n",
      "  dx = (mask * u).sum() / mask.sum()\n",
      "/var/folders/x8/gymrgfns32bd6rd_ksf19p3m0000gn/T/ipykernel_13099/3716218547.py:33: RuntimeWarning: invalid value encountered in double_scalars\n",
      "  dy = (mask * v).sum() / mask.sum()\n",
      "/var/folders/x8/gymrgfns32bd6rd_ksf19p3m0000gn/T/ipykernel_13099/3716218547.py:32: RuntimeWarning: invalid value encountered in double_scalars\n",
      "  dx = (mask * u).sum() / mask.sum()\n",
      "/var/folders/x8/gymrgfns32bd6rd_ksf19p3m0000gn/T/ipykernel_13099/3716218547.py:33: RuntimeWarning: invalid value encountered in double_scalars\n",
      "  dy = (mask * v).sum() / mask.sum()\n",
      "/var/folders/x8/gymrgfns32bd6rd_ksf19p3m0000gn/T/ipykernel_13099/3716218547.py:32: RuntimeWarning: invalid value encountered in double_scalars\n",
      "  dx = (mask * u).sum() / mask.sum()\n",
      "/var/folders/x8/gymrgfns32bd6rd_ksf19p3m0000gn/T/ipykernel_13099/3716218547.py:33: RuntimeWarning: invalid value encountered in double_scalars\n",
      "  dy = (mask * v).sum() / mask.sum()\n",
      "/var/folders/x8/gymrgfns32bd6rd_ksf19p3m0000gn/T/ipykernel_13099/3716218547.py:32: RuntimeWarning: invalid value encountered in double_scalars\n",
      "  dx = (mask * u).sum() / mask.sum()\n",
      "/var/folders/x8/gymrgfns32bd6rd_ksf19p3m0000gn/T/ipykernel_13099/3716218547.py:33: RuntimeWarning: invalid value encountered in double_scalars\n",
      "  dy = (mask * v).sum() / mask.sum()\n",
      "/var/folders/x8/gymrgfns32bd6rd_ksf19p3m0000gn/T/ipykernel_13099/3716218547.py:32: RuntimeWarning: invalid value encountered in double_scalars\n",
      "  dx = (mask * u).sum() / mask.sum()\n",
      "/var/folders/x8/gymrgfns32bd6rd_ksf19p3m0000gn/T/ipykernel_13099/3716218547.py:33: RuntimeWarning: invalid value encountered in double_scalars\n",
      "  dy = (mask * v).sum() / mask.sum()\n",
      "/var/folders/x8/gymrgfns32bd6rd_ksf19p3m0000gn/T/ipykernel_13099/3716218547.py:32: RuntimeWarning: invalid value encountered in double_scalars\n",
      "  dx = (mask * u).sum() / mask.sum()\n",
      "/var/folders/x8/gymrgfns32bd6rd_ksf19p3m0000gn/T/ipykernel_13099/3716218547.py:33: RuntimeWarning: invalid value encountered in double_scalars\n",
      "  dy = (mask * v).sum() / mask.sum()\n",
      "/var/folders/x8/gymrgfns32bd6rd_ksf19p3m0000gn/T/ipykernel_13099/3716218547.py:32: RuntimeWarning: invalid value encountered in double_scalars\n",
      "  dx = (mask * u).sum() / mask.sum()\n",
      "/var/folders/x8/gymrgfns32bd6rd_ksf19p3m0000gn/T/ipykernel_13099/3716218547.py:33: RuntimeWarning: invalid value encountered in double_scalars\n",
      "  dy = (mask * v).sum() / mask.sum()\n",
      "/var/folders/x8/gymrgfns32bd6rd_ksf19p3m0000gn/T/ipykernel_13099/3716218547.py:32: RuntimeWarning: invalid value encountered in double_scalars\n",
      "  dx = (mask * u).sum() / mask.sum()\n",
      "/var/folders/x8/gymrgfns32bd6rd_ksf19p3m0000gn/T/ipykernel_13099/3716218547.py:33: RuntimeWarning: invalid value encountered in double_scalars\n",
      "  dy = (mask * v).sum() / mask.sum()\n",
      "/var/folders/x8/gymrgfns32bd6rd_ksf19p3m0000gn/T/ipykernel_13099/3716218547.py:32: RuntimeWarning: invalid value encountered in double_scalars\n",
      "  dx = (mask * u).sum() / mask.sum()\n",
      "/var/folders/x8/gymrgfns32bd6rd_ksf19p3m0000gn/T/ipykernel_13099/3716218547.py:33: RuntimeWarning: invalid value encountered in double_scalars\n",
      "  dy = (mask * v).sum() / mask.sum()\n",
      "/var/folders/x8/gymrgfns32bd6rd_ksf19p3m0000gn/T/ipykernel_13099/3716218547.py:32: RuntimeWarning: invalid value encountered in double_scalars\n",
      "  dx = (mask * u).sum() / mask.sum()\n",
      "/var/folders/x8/gymrgfns32bd6rd_ksf19p3m0000gn/T/ipykernel_13099/3716218547.py:33: RuntimeWarning: invalid value encountered in double_scalars\n",
      "  dy = (mask * v).sum() / mask.sum()\n",
      "/var/folders/x8/gymrgfns32bd6rd_ksf19p3m0000gn/T/ipykernel_13099/3716218547.py:32: RuntimeWarning: invalid value encountered in double_scalars\n",
      "  dx = (mask * u).sum() / mask.sum()\n",
      "/var/folders/x8/gymrgfns32bd6rd_ksf19p3m0000gn/T/ipykernel_13099/3716218547.py:33: RuntimeWarning: invalid value encountered in double_scalars\n",
      "  dy = (mask * v).sum() / mask.sum()\n",
      "/var/folders/x8/gymrgfns32bd6rd_ksf19p3m0000gn/T/ipykernel_13099/3716218547.py:32: RuntimeWarning: invalid value encountered in double_scalars\n",
      "  dx = (mask * u).sum() / mask.sum()\n",
      "/var/folders/x8/gymrgfns32bd6rd_ksf19p3m0000gn/T/ipykernel_13099/3716218547.py:33: RuntimeWarning: invalid value encountered in double_scalars\n",
      "  dy = (mask * v).sum() / mask.sum()\n",
      "/var/folders/x8/gymrgfns32bd6rd_ksf19p3m0000gn/T/ipykernel_13099/3716218547.py:32: RuntimeWarning: invalid value encountered in double_scalars\n",
      "  dx = (mask * u).sum() / mask.sum()\n",
      "/var/folders/x8/gymrgfns32bd6rd_ksf19p3m0000gn/T/ipykernel_13099/3716218547.py:33: RuntimeWarning: invalid value encountered in double_scalars\n",
      "  dy = (mask * v).sum() / mask.sum()\n",
      "/var/folders/x8/gymrgfns32bd6rd_ksf19p3m0000gn/T/ipykernel_13099/3716218547.py:32: RuntimeWarning: invalid value encountered in double_scalars\n",
      "  dx = (mask * u).sum() / mask.sum()\n",
      "/var/folders/x8/gymrgfns32bd6rd_ksf19p3m0000gn/T/ipykernel_13099/3716218547.py:33: RuntimeWarning: invalid value encountered in double_scalars\n",
      "  dy = (mask * v).sum() / mask.sum()\n",
      "/var/folders/x8/gymrgfns32bd6rd_ksf19p3m0000gn/T/ipykernel_13099/3716218547.py:32: RuntimeWarning: invalid value encountered in double_scalars\n",
      "  dx = (mask * u).sum() / mask.sum()\n",
      "/var/folders/x8/gymrgfns32bd6rd_ksf19p3m0000gn/T/ipykernel_13099/3716218547.py:33: RuntimeWarning: invalid value encountered in double_scalars\n",
      "  dy = (mask * v).sum() / mask.sum()\n",
      "/var/folders/x8/gymrgfns32bd6rd_ksf19p3m0000gn/T/ipykernel_13099/3716218547.py:32: RuntimeWarning: invalid value encountered in double_scalars\n",
      "  dx = (mask * u).sum() / mask.sum()\n",
      "/var/folders/x8/gymrgfns32bd6rd_ksf19p3m0000gn/T/ipykernel_13099/3716218547.py:33: RuntimeWarning: invalid value encountered in double_scalars\n",
      "  dy = (mask * v).sum() / mask.sum()\n",
      "/var/folders/x8/gymrgfns32bd6rd_ksf19p3m0000gn/T/ipykernel_13099/3716218547.py:32: RuntimeWarning: invalid value encountered in double_scalars\n",
      "  dx = (mask * u).sum() / mask.sum()\n",
      "/var/folders/x8/gymrgfns32bd6rd_ksf19p3m0000gn/T/ipykernel_13099/3716218547.py:33: RuntimeWarning: invalid value encountered in double_scalars\n",
      "  dy = (mask * v).sum() / mask.sum()\n",
      "/var/folders/x8/gymrgfns32bd6rd_ksf19p3m0000gn/T/ipykernel_13099/3716218547.py:32: RuntimeWarning: invalid value encountered in double_scalars\n",
      "  dx = (mask * u).sum() / mask.sum()\n",
      "/var/folders/x8/gymrgfns32bd6rd_ksf19p3m0000gn/T/ipykernel_13099/3716218547.py:33: RuntimeWarning: invalid value encountered in double_scalars\n",
      "  dy = (mask * v).sum() / mask.sum()\n",
      "/var/folders/x8/gymrgfns32bd6rd_ksf19p3m0000gn/T/ipykernel_13099/3716218547.py:32: RuntimeWarning: invalid value encountered in double_scalars\n",
      "  dx = (mask * u).sum() / mask.sum()\n",
      "/var/folders/x8/gymrgfns32bd6rd_ksf19p3m0000gn/T/ipykernel_13099/3716218547.py:33: RuntimeWarning: invalid value encountered in double_scalars\n",
      "  dy = (mask * v).sum() / mask.sum()\n",
      "/var/folders/x8/gymrgfns32bd6rd_ksf19p3m0000gn/T/ipykernel_13099/3716218547.py:32: RuntimeWarning: invalid value encountered in double_scalars\n",
      "  dx = (mask * u).sum() / mask.sum()\n",
      "/var/folders/x8/gymrgfns32bd6rd_ksf19p3m0000gn/T/ipykernel_13099/3716218547.py:33: RuntimeWarning: invalid value encountered in double_scalars\n",
      "  dy = (mask * v).sum() / mask.sum()\n",
      "/var/folders/x8/gymrgfns32bd6rd_ksf19p3m0000gn/T/ipykernel_13099/3716218547.py:32: RuntimeWarning: invalid value encountered in double_scalars\n",
      "  dx = (mask * u).sum() / mask.sum()\n",
      "/var/folders/x8/gymrgfns32bd6rd_ksf19p3m0000gn/T/ipykernel_13099/3716218547.py:33: RuntimeWarning: invalid value encountered in double_scalars\n",
      "  dy = (mask * v).sum() / mask.sum()\n",
      "/var/folders/x8/gymrgfns32bd6rd_ksf19p3m0000gn/T/ipykernel_13099/3716218547.py:32: RuntimeWarning: invalid value encountered in double_scalars\n",
      "  dx = (mask * u).sum() / mask.sum()\n",
      "/var/folders/x8/gymrgfns32bd6rd_ksf19p3m0000gn/T/ipykernel_13099/3716218547.py:33: RuntimeWarning: invalid value encountered in double_scalars\n",
      "  dy = (mask * v).sum() / mask.sum()\n",
      "/var/folders/x8/gymrgfns32bd6rd_ksf19p3m0000gn/T/ipykernel_13099/3716218547.py:32: RuntimeWarning: invalid value encountered in double_scalars\n",
      "  dx = (mask * u).sum() / mask.sum()\n",
      "/var/folders/x8/gymrgfns32bd6rd_ksf19p3m0000gn/T/ipykernel_13099/3716218547.py:33: RuntimeWarning: invalid value encountered in double_scalars\n",
      "  dy = (mask * v).sum() / mask.sum()\n",
      "/var/folders/x8/gymrgfns32bd6rd_ksf19p3m0000gn/T/ipykernel_13099/3716218547.py:32: RuntimeWarning: invalid value encountered in double_scalars\n",
      "  dx = (mask * u).sum() / mask.sum()\n",
      "/var/folders/x8/gymrgfns32bd6rd_ksf19p3m0000gn/T/ipykernel_13099/3716218547.py:33: RuntimeWarning: invalid value encountered in double_scalars\n",
      "  dy = (mask * v).sum() / mask.sum()\n",
      "/var/folders/x8/gymrgfns32bd6rd_ksf19p3m0000gn/T/ipykernel_13099/3716218547.py:32: RuntimeWarning: invalid value encountered in double_scalars\n",
      "  dx = (mask * u).sum() / mask.sum()\n",
      "/var/folders/x8/gymrgfns32bd6rd_ksf19p3m0000gn/T/ipykernel_13099/3716218547.py:33: RuntimeWarning: invalid value encountered in double_scalars\n",
      "  dy = (mask * v).sum() / mask.sum()\n",
      "/var/folders/x8/gymrgfns32bd6rd_ksf19p3m0000gn/T/ipykernel_13099/3716218547.py:32: RuntimeWarning: invalid value encountered in double_scalars\n",
      "  dx = (mask * u).sum() / mask.sum()\n",
      "/var/folders/x8/gymrgfns32bd6rd_ksf19p3m0000gn/T/ipykernel_13099/3716218547.py:33: RuntimeWarning: invalid value encountered in double_scalars\n",
      "  dy = (mask * v).sum() / mask.sum()\n",
      "/var/folders/x8/gymrgfns32bd6rd_ksf19p3m0000gn/T/ipykernel_13099/3716218547.py:32: RuntimeWarning: invalid value encountered in double_scalars\n",
      "  dx = (mask * u).sum() / mask.sum()\n",
      "/var/folders/x8/gymrgfns32bd6rd_ksf19p3m0000gn/T/ipykernel_13099/3716218547.py:33: RuntimeWarning: invalid value encountered in double_scalars\n",
      "  dy = (mask * v).sum() / mask.sum()\n",
      "/var/folders/x8/gymrgfns32bd6rd_ksf19p3m0000gn/T/ipykernel_13099/3716218547.py:32: RuntimeWarning: invalid value encountered in double_scalars\n",
      "  dx = (mask * u).sum() / mask.sum()\n",
      "/var/folders/x8/gymrgfns32bd6rd_ksf19p3m0000gn/T/ipykernel_13099/3716218547.py:33: RuntimeWarning: invalid value encountered in double_scalars\n",
      "  dy = (mask * v).sum() / mask.sum()\n",
      "/var/folders/x8/gymrgfns32bd6rd_ksf19p3m0000gn/T/ipykernel_13099/3716218547.py:32: RuntimeWarning: invalid value encountered in double_scalars\n",
      "  dx = (mask * u).sum() / mask.sum()\n",
      "/var/folders/x8/gymrgfns32bd6rd_ksf19p3m0000gn/T/ipykernel_13099/3716218547.py:33: RuntimeWarning: invalid value encountered in double_scalars\n",
      "  dy = (mask * v).sum() / mask.sum()\n",
      "/var/folders/x8/gymrgfns32bd6rd_ksf19p3m0000gn/T/ipykernel_13099/3716218547.py:32: RuntimeWarning: invalid value encountered in double_scalars\n",
      "  dx = (mask * u).sum() / mask.sum()\n",
      "/var/folders/x8/gymrgfns32bd6rd_ksf19p3m0000gn/T/ipykernel_13099/3716218547.py:33: RuntimeWarning: invalid value encountered in double_scalars\n",
      "  dy = (mask * v).sum() / mask.sum()\n",
      "/var/folders/x8/gymrgfns32bd6rd_ksf19p3m0000gn/T/ipykernel_13099/3716218547.py:32: RuntimeWarning: invalid value encountered in double_scalars\n",
      "  dx = (mask * u).sum() / mask.sum()\n",
      "/var/folders/x8/gymrgfns32bd6rd_ksf19p3m0000gn/T/ipykernel_13099/3716218547.py:33: RuntimeWarning: invalid value encountered in double_scalars\n",
      "  dy = (mask * v).sum() / mask.sum()\n",
      "/var/folders/x8/gymrgfns32bd6rd_ksf19p3m0000gn/T/ipykernel_13099/3716218547.py:32: RuntimeWarning: invalid value encountered in double_scalars\n",
      "  dx = (mask * u).sum() / mask.sum()\n",
      "/var/folders/x8/gymrgfns32bd6rd_ksf19p3m0000gn/T/ipykernel_13099/3716218547.py:33: RuntimeWarning: invalid value encountered in double_scalars\n",
      "  dy = (mask * v).sum() / mask.sum()\n",
      "/var/folders/x8/gymrgfns32bd6rd_ksf19p3m0000gn/T/ipykernel_13099/3716218547.py:32: RuntimeWarning: invalid value encountered in double_scalars\n",
      "  dx = (mask * u).sum() / mask.sum()\n",
      "/var/folders/x8/gymrgfns32bd6rd_ksf19p3m0000gn/T/ipykernel_13099/3716218547.py:33: RuntimeWarning: invalid value encountered in double_scalars\n",
      "  dy = (mask * v).sum() / mask.sum()\n",
      "/var/folders/x8/gymrgfns32bd6rd_ksf19p3m0000gn/T/ipykernel_13099/3716218547.py:32: RuntimeWarning: invalid value encountered in double_scalars\n",
      "  dx = (mask * u).sum() / mask.sum()\n",
      "/var/folders/x8/gymrgfns32bd6rd_ksf19p3m0000gn/T/ipykernel_13099/3716218547.py:33: RuntimeWarning: invalid value encountered in double_scalars\n",
      "  dy = (mask * v).sum() / mask.sum()\n",
      "/var/folders/x8/gymrgfns32bd6rd_ksf19p3m0000gn/T/ipykernel_13099/3716218547.py:32: RuntimeWarning: invalid value encountered in double_scalars\n",
      "  dx = (mask * u).sum() / mask.sum()\n",
      "/var/folders/x8/gymrgfns32bd6rd_ksf19p3m0000gn/T/ipykernel_13099/3716218547.py:33: RuntimeWarning: invalid value encountered in double_scalars\n",
      "  dy = (mask * v).sum() / mask.sum()\n",
      "/var/folders/x8/gymrgfns32bd6rd_ksf19p3m0000gn/T/ipykernel_13099/3716218547.py:32: RuntimeWarning: invalid value encountered in double_scalars\n",
      "  dx = (mask * u).sum() / mask.sum()\n",
      "/var/folders/x8/gymrgfns32bd6rd_ksf19p3m0000gn/T/ipykernel_13099/3716218547.py:33: RuntimeWarning: invalid value encountered in double_scalars\n",
      "  dy = (mask * v).sum() / mask.sum()\n",
      "/var/folders/x8/gymrgfns32bd6rd_ksf19p3m0000gn/T/ipykernel_13099/3716218547.py:32: RuntimeWarning: invalid value encountered in double_scalars\n",
      "  dx = (mask * u).sum() / mask.sum()\n",
      "/var/folders/x8/gymrgfns32bd6rd_ksf19p3m0000gn/T/ipykernel_13099/3716218547.py:33: RuntimeWarning: invalid value encountered in double_scalars\n",
      "  dy = (mask * v).sum() / mask.sum()\n",
      "/var/folders/x8/gymrgfns32bd6rd_ksf19p3m0000gn/T/ipykernel_13099/3716218547.py:32: RuntimeWarning: invalid value encountered in double_scalars\n",
      "  dx = (mask * u).sum() / mask.sum()\n",
      "/var/folders/x8/gymrgfns32bd6rd_ksf19p3m0000gn/T/ipykernel_13099/3716218547.py:33: RuntimeWarning: invalid value encountered in double_scalars\n",
      "  dy = (mask * v).sum() / mask.sum()\n",
      "/var/folders/x8/gymrgfns32bd6rd_ksf19p3m0000gn/T/ipykernel_13099/3716218547.py:32: RuntimeWarning: invalid value encountered in double_scalars\n",
      "  dx = (mask * u).sum() / mask.sum()\n",
      "/var/folders/x8/gymrgfns32bd6rd_ksf19p3m0000gn/T/ipykernel_13099/3716218547.py:33: RuntimeWarning: invalid value encountered in double_scalars\n",
      "  dy = (mask * v).sum() / mask.sum()\n",
      "/var/folders/x8/gymrgfns32bd6rd_ksf19p3m0000gn/T/ipykernel_13099/3716218547.py:32: RuntimeWarning: invalid value encountered in double_scalars\n",
      "  dx = (mask * u).sum() / mask.sum()\n",
      "/var/folders/x8/gymrgfns32bd6rd_ksf19p3m0000gn/T/ipykernel_13099/3716218547.py:33: RuntimeWarning: invalid value encountered in double_scalars\n",
      "  dy = (mask * v).sum() / mask.sum()\n",
      "/var/folders/x8/gymrgfns32bd6rd_ksf19p3m0000gn/T/ipykernel_13099/3716218547.py:32: RuntimeWarning: invalid value encountered in double_scalars\n",
      "  dx = (mask * u).sum() / mask.sum()\n",
      "/var/folders/x8/gymrgfns32bd6rd_ksf19p3m0000gn/T/ipykernel_13099/3716218547.py:33: RuntimeWarning: invalid value encountered in double_scalars\n",
      "  dy = (mask * v).sum() / mask.sum()\n",
      "/var/folders/x8/gymrgfns32bd6rd_ksf19p3m0000gn/T/ipykernel_13099/3716218547.py:32: RuntimeWarning: invalid value encountered in double_scalars\n",
      "  dx = (mask * u).sum() / mask.sum()\n",
      "/var/folders/x8/gymrgfns32bd6rd_ksf19p3m0000gn/T/ipykernel_13099/3716218547.py:33: RuntimeWarning: invalid value encountered in double_scalars\n",
      "  dy = (mask * v).sum() / mask.sum()\n",
      "/var/folders/x8/gymrgfns32bd6rd_ksf19p3m0000gn/T/ipykernel_13099/3716218547.py:32: RuntimeWarning: invalid value encountered in double_scalars\n",
      "  dx = (mask * u).sum() / mask.sum()\n",
      "/var/folders/x8/gymrgfns32bd6rd_ksf19p3m0000gn/T/ipykernel_13099/3716218547.py:33: RuntimeWarning: invalid value encountered in double_scalars\n",
      "  dy = (mask * v).sum() / mask.sum()\n",
      "/var/folders/x8/gymrgfns32bd6rd_ksf19p3m0000gn/T/ipykernel_13099/3716218547.py:32: RuntimeWarning: invalid value encountered in double_scalars\n",
      "  dx = (mask * u).sum() / mask.sum()\n",
      "/var/folders/x8/gymrgfns32bd6rd_ksf19p3m0000gn/T/ipykernel_13099/3716218547.py:33: RuntimeWarning: invalid value encountered in double_scalars\n",
      "  dy = (mask * v).sum() / mask.sum()\n",
      "/var/folders/x8/gymrgfns32bd6rd_ksf19p3m0000gn/T/ipykernel_13099/3716218547.py:32: RuntimeWarning: invalid value encountered in double_scalars\n",
      "  dx = (mask * u).sum() / mask.sum()\n",
      "/var/folders/x8/gymrgfns32bd6rd_ksf19p3m0000gn/T/ipykernel_13099/3716218547.py:33: RuntimeWarning: invalid value encountered in double_scalars\n",
      "  dy = (mask * v).sum() / mask.sum()\n",
      "/var/folders/x8/gymrgfns32bd6rd_ksf19p3m0000gn/T/ipykernel_13099/3716218547.py:32: RuntimeWarning: invalid value encountered in double_scalars\n",
      "  dx = (mask * u).sum() / mask.sum()\n",
      "/var/folders/x8/gymrgfns32bd6rd_ksf19p3m0000gn/T/ipykernel_13099/3716218547.py:33: RuntimeWarning: invalid value encountered in double_scalars\n",
      "  dy = (mask * v).sum() / mask.sum()\n",
      "/var/folders/x8/gymrgfns32bd6rd_ksf19p3m0000gn/T/ipykernel_13099/3716218547.py:32: RuntimeWarning: invalid value encountered in double_scalars\n",
      "  dx = (mask * u).sum() / mask.sum()\n",
      "/var/folders/x8/gymrgfns32bd6rd_ksf19p3m0000gn/T/ipykernel_13099/3716218547.py:33: RuntimeWarning: invalid value encountered in double_scalars\n",
      "  dy = (mask * v).sum() / mask.sum()\n",
      "/var/folders/x8/gymrgfns32bd6rd_ksf19p3m0000gn/T/ipykernel_13099/3716218547.py:32: RuntimeWarning: invalid value encountered in double_scalars\n",
      "  dx = (mask * u).sum() / mask.sum()\n",
      "/var/folders/x8/gymrgfns32bd6rd_ksf19p3m0000gn/T/ipykernel_13099/3716218547.py:33: RuntimeWarning: invalid value encountered in double_scalars\n",
      "  dy = (mask * v).sum() / mask.sum()\n",
      "/var/folders/x8/gymrgfns32bd6rd_ksf19p3m0000gn/T/ipykernel_13099/3716218547.py:32: RuntimeWarning: invalid value encountered in double_scalars\n",
      "  dx = (mask * u).sum() / mask.sum()\n",
      "/var/folders/x8/gymrgfns32bd6rd_ksf19p3m0000gn/T/ipykernel_13099/3716218547.py:33: RuntimeWarning: invalid value encountered in double_scalars\n",
      "  dy = (mask * v).sum() / mask.sum()\n",
      "/var/folders/x8/gymrgfns32bd6rd_ksf19p3m0000gn/T/ipykernel_13099/3716218547.py:32: RuntimeWarning: invalid value encountered in double_scalars\n",
      "  dx = (mask * u).sum() / mask.sum()\n",
      "/var/folders/x8/gymrgfns32bd6rd_ksf19p3m0000gn/T/ipykernel_13099/3716218547.py:33: RuntimeWarning: invalid value encountered in double_scalars\n",
      "  dy = (mask * v).sum() / mask.sum()\n",
      "/var/folders/x8/gymrgfns32bd6rd_ksf19p3m0000gn/T/ipykernel_13099/3716218547.py:32: RuntimeWarning: invalid value encountered in double_scalars\n",
      "  dx = (mask * u).sum() / mask.sum()\n",
      "/var/folders/x8/gymrgfns32bd6rd_ksf19p3m0000gn/T/ipykernel_13099/3716218547.py:33: RuntimeWarning: invalid value encountered in double_scalars\n",
      "  dy = (mask * v).sum() / mask.sum()\n",
      "/var/folders/x8/gymrgfns32bd6rd_ksf19p3m0000gn/T/ipykernel_13099/3716218547.py:32: RuntimeWarning: invalid value encountered in double_scalars\n",
      "  dx = (mask * u).sum() / mask.sum()\n",
      "/var/folders/x8/gymrgfns32bd6rd_ksf19p3m0000gn/T/ipykernel_13099/3716218547.py:33: RuntimeWarning: invalid value encountered in double_scalars\n",
      "  dy = (mask * v).sum() / mask.sum()\n",
      "/var/folders/x8/gymrgfns32bd6rd_ksf19p3m0000gn/T/ipykernel_13099/3716218547.py:32: RuntimeWarning: invalid value encountered in double_scalars\n",
      "  dx = (mask * u).sum() / mask.sum()\n",
      "/var/folders/x8/gymrgfns32bd6rd_ksf19p3m0000gn/T/ipykernel_13099/3716218547.py:33: RuntimeWarning: invalid value encountered in double_scalars\n",
      "  dy = (mask * v).sum() / mask.sum()\n",
      "/var/folders/x8/gymrgfns32bd6rd_ksf19p3m0000gn/T/ipykernel_13099/3716218547.py:32: RuntimeWarning: invalid value encountered in double_scalars\n",
      "  dx = (mask * u).sum() / mask.sum()\n",
      "/var/folders/x8/gymrgfns32bd6rd_ksf19p3m0000gn/T/ipykernel_13099/3716218547.py:33: RuntimeWarning: invalid value encountered in double_scalars\n",
      "  dy = (mask * v).sum() / mask.sum()\n",
      "/var/folders/x8/gymrgfns32bd6rd_ksf19p3m0000gn/T/ipykernel_13099/3716218547.py:32: RuntimeWarning: invalid value encountered in double_scalars\n",
      "  dx = (mask * u).sum() / mask.sum()\n",
      "/var/folders/x8/gymrgfns32bd6rd_ksf19p3m0000gn/T/ipykernel_13099/3716218547.py:33: RuntimeWarning: invalid value encountered in double_scalars\n",
      "  dy = (mask * v).sum() / mask.sum()\n",
      "/var/folders/x8/gymrgfns32bd6rd_ksf19p3m0000gn/T/ipykernel_13099/3716218547.py:32: RuntimeWarning: invalid value encountered in double_scalars\n",
      "  dx = (mask * u).sum() / mask.sum()\n",
      "/var/folders/x8/gymrgfns32bd6rd_ksf19p3m0000gn/T/ipykernel_13099/3716218547.py:33: RuntimeWarning: invalid value encountered in double_scalars\n",
      "  dy = (mask * v).sum() / mask.sum()\n",
      "/var/folders/x8/gymrgfns32bd6rd_ksf19p3m0000gn/T/ipykernel_13099/3716218547.py:32: RuntimeWarning: invalid value encountered in double_scalars\n",
      "  dx = (mask * u).sum() / mask.sum()\n",
      "/var/folders/x8/gymrgfns32bd6rd_ksf19p3m0000gn/T/ipykernel_13099/3716218547.py:33: RuntimeWarning: invalid value encountered in double_scalars\n",
      "  dy = (mask * v).sum() / mask.sum()\n",
      "/var/folders/x8/gymrgfns32bd6rd_ksf19p3m0000gn/T/ipykernel_13099/3716218547.py:32: RuntimeWarning: invalid value encountered in double_scalars\n",
      "  dx = (mask * u).sum() / mask.sum()\n",
      "/var/folders/x8/gymrgfns32bd6rd_ksf19p3m0000gn/T/ipykernel_13099/3716218547.py:33: RuntimeWarning: invalid value encountered in double_scalars\n",
      "  dy = (mask * v).sum() / mask.sum()\n",
      "/var/folders/x8/gymrgfns32bd6rd_ksf19p3m0000gn/T/ipykernel_13099/3716218547.py:32: RuntimeWarning: invalid value encountered in double_scalars\n",
      "  dx = (mask * u).sum() / mask.sum()\n",
      "/var/folders/x8/gymrgfns32bd6rd_ksf19p3m0000gn/T/ipykernel_13099/3716218547.py:33: RuntimeWarning: invalid value encountered in double_scalars\n",
      "  dy = (mask * v).sum() / mask.sum()\n"
     ]
    }
   ],
   "source": [
    "wave = Wave(a = 2.5,\n",
    "            T = 10,\n",
    "            k = .1)\n",
    "\n",
    "wind = Wind(Ux = 0, Uy = 0, alpha = 1, sigma = 0)\n",
    "\n",
    "x, y = 0, 0\n",
    "dx, dy = 0, 0\n",
    "z = water_surface_level(wave, x, 0)\n",
    "\n",
    "horizon = 10 * wave.T\n",
    "traj = []\n",
    "time = np.linspace(0, horizon, 250)\n",
    "for i, t in enumerate(time) :\n",
    "\n",
    "    x += 0.5 * dx\n",
    "    y += 0.5 * dy\n",
    "    z = water_surface_level(wave, x, t)\n",
    "\n",
    "    traj.append((x, y, z))\n",
    "    x_traj, y_traj, z_traj = zip(*traj)\n",
    "\n",
    "    prog = t / horizon\n",
    "\n",
    "    eta     = water_surface_level(wave, X, t)\n",
    "    u, v, w = velocity_field(wave, wind, t, X, Z, noise = 1/10)\n",
    "    water = (Z <= eta).astype(np.int32)\n",
    "    u, v, w = u * water, v * water, w * water\n",
    "\n",
    "    dist = np.sqrt((X - x) ** 2 + (Y - y) ** 2 + (Z - z) ** 2)\n",
    "    mask = (dist <= 2.5).astype(np.int32)\n",
    "    dx = (mask * u).sum() / mask.sum()\n",
    "    dy = (mask * v).sum() / mask.sum()\n",
    "\n",
    "    plot = True\n",
    "    if plot:\n",
    "        # Create the quiver plot\n",
    "        fig = plt.figure()\n",
    "        ax = fig.add_subplot(111, projection='3d')\n",
    "        ax.quiver(X, Y, Z, u * (1 - mask), v * (1 - mask), w * (1 - mask), alpha = 0.5, color = 'lightblue')\n",
    "        ax.quiver(X, Y, Z, u * mask, v * mask, w * mask, alpha = 0.75, color = 'darkblue')\n",
    "    #   ax.quiver(0, 0, 4, 5 * wind.Ux, 5 * wind.Uy, 0, color = 'red')\n",
    "        ax.plot(x_traj, y_traj, z_traj, linestyle = '--', color = 'gray')\n",
    "        ax.scatter(x, y, z, color = 'red')\n",
    "        ax.view_init(20, 1 + 88 * prog)\n",
    "        ax.set_xlim([-11, 11])\n",
    "        ax.set_ylim([-11, 11])\n",
    "        ax.set_zlim([-d, 2*wave.a])\n",
    "        ax.xaxis.pane.set_visible(False)\n",
    "        ax.yaxis.pane.set_visible(False)\n",
    "        ax.zaxis.pane.set_visible(False)\n",
    "    # ax.axis('off')\n",
    "        \n",
    "        plt.savefig(f'anim3/step{str(i).zfill(5)}.jpg', dpi = 200)\n",
    "        plt.close()\n",
    "\n",
    "create_movie('anim3', 'anim3.mp4', fps = 12)"
   ]
  },
  {
   "cell_type": "code",
   "execution_count": 154,
   "metadata": {},
   "outputs": [
    {
     "data": {
      "text/plain": [
       "[<matplotlib.lines.Line2D at 0x7f77991750c0>]"
      ]
     },
     "execution_count": 154,
     "metadata": {},
     "output_type": "execute_result"
    },
    {
     "data": {
      "image/png": "[encoded data removed]",
      "text/plain": [
       "<Figure size 640x480 with 1 Axes>"
      ]
     },
     "metadata": {},
     "output_type": "display_data"
    }
   ],
   "source": [
    "x_traj, y_traj, z_traj = zip(*traj)\n",
    "plt.plot(x_traj, y_traj)"
   ]
  },
  {
   "cell_type": "code",
   "execution_count": 97,
   "metadata": {},
   "outputs": [],
   "source": [
    "x, y = 0, 0\n",
    "z = water_surface_level(wave, x, t)\n",
    "\n",
    "dist = np.sqrt((X - x) ** 2 + (Y - y) ** 2 + (Z - z) ** 2)"
   ]
  },
  {
   "cell_type": "code",
   "execution_count": 115,
   "metadata": {},
   "outputs": [],
   "source": [
    "mask = (dist <= 2.5).astype(np.int32)\n",
    "dx = (mask * u).sum() / mask.sum()\n",
    "dy = (mask * v).sum() / mask.sum()\n",
    "dz = (mask * w).sum() / mask.sum()"
   ]
  },
  {
   "cell_type": "code",
   "execution_count": 116,
   "metadata": {},
   "outputs": [
    {
     "data": {
      "text/plain": [
       "array([-0.05265753, -0.00060162,  0.00577108])"
      ]
     },
     "execution_count": 116,
     "metadata": {},
     "output_type": "execute_result"
    }
   ],
   "source": [
    "np.array([dx, dy, dz])"
   ]
  },
  {
   "cell_type": "code",
   "execution_count": 85,
   "metadata": {},
   "outputs": [
    {
     "data": {
      "text/plain": [
       "<mpl_toolkits.mplot3d.art3d.Line3DCollection at 0x7f7723693a90>"
      ]
     },
     "execution_count": 85,
     "metadata": {},
     "output_type": "execute_result"
    },
    {
     "data": {
      "image/png": "[encoded data removed]",
      "text/plain": [
       "<Figure size 640x480 with 1 Axes>"
      ]
     },
     "metadata": {},
     "output_type": "display_data"
    }
   ],
   "source": [
    "fig = plt.figure()\n",
    "ax = fig.add_subplot(111, projection='3d')\n",
    "ax.quiver(0, 0, 0, 1, 1, 0)"
   ]
  },
  {
   "cell_type": "code",
   "execution_count": 77,
   "metadata": {},
   "outputs": [],
   "source": [
    "t = 0\n",
    "eta = a * np.sin(omega * t - k * X)"
   ]
  },
  {
   "cell_type": "code",
   "execution_count": 89,
   "metadata": {},
   "outputs": [],
   "source": [
    "water = (Z < eta).astype(np.int32)"
   ]
  },
  {
   "cell_type": "code",
   "execution_count": 84,
   "metadata": {},
   "outputs": [
    {
     "data": {
      "text/plain": [
       "<matplotlib.colorbar.Colorbar at 0x7f9e31456f20>"
      ]
     },
     "execution_count": 84,
     "metadata": {},
     "output_type": "execute_result"
    },
    {
     "data": {
      "image/png": "[encoded data removed]",
      "text/plain": [
       "<Figure size 640x480 with 2 Axes>"
      ]
     },
     "metadata": {},
     "output_type": "display_data"
    }
   ],
   "source": [
    "plt.imshow(eta[:, :, 1])\n",
    "plt.colorbar()"
   ]
  },
  {
   "cell_type": "code",
   "execution_count": 95,
   "metadata": {},
   "outputs": [
    {
     "data": {
      "text/plain": [
       "array([[1, 1, 1, 1, 1, 1, 1, 1, 0, 0],\n",
       "       [1, 1, 1, 1, 1, 1, 1, 1, 0, 0],\n",
       "       [1, 1, 1, 1, 1, 1, 1, 1, 0, 0],\n",
       "       [1, 1, 1, 1, 1, 1, 1, 1, 0, 0],\n",
       "       [1, 1, 1, 1, 1, 1, 1, 1, 0, 0],\n",
       "       [1, 1, 1, 1, 1, 1, 1, 1, 0, 0],\n",
       "       [1, 1, 1, 1, 1, 1, 1, 1, 0, 0],\n",
       "       [1, 1, 1, 1, 1, 1, 1, 1, 0, 0],\n",
       "       [1, 1, 1, 1, 1, 1, 1, 1, 0, 0],\n",
       "       [1, 1, 1, 1, 1, 1, 1, 1, 0, 0]], dtype=int32)"
      ]
     },
     "execution_count": 95,
     "metadata": {},
     "output_type": "execute_result"
    }
   ],
   "source": [
    "water[:, :, -4]"
   ]
  },
  {
   "cell_type": "code",
   "execution_count": null,
   "metadata": {},
   "outputs": [],
   "source": []
  }
 ],
 "metadata": {
  "kernelspec": {
   "display_name": "Python 3.10.10 ('nbaenv')",
   "language": "python",
   "name": "python3"
  },
  "language_info": {
   "codemirror_mode": {
    "name": "ipython",
    "version": 3
   },
   "file_extension": ".py",
   "mimetype": "text/x-python",
   "name": "python",
   "nbconvert_exporter": "python",
   "pygments_lexer": "ipython3",
   "version": "3.10.10"
  },
  "orig_nbformat": 4,
  "vscode": {
   "interpreter": {
    "hash": "8158d229fe7301e640acb43d488c0efce3cd8ada31ff414dc1808c070c07cefa"
   }
  }
 },
 "nbformat": 4,
 "nbformat_minor": 2
}
